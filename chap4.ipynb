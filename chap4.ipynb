{
 "cells": [
  {
   "cell_type": "code",
   "execution_count": 1,
   "metadata": {},
   "outputs": [],
   "source": [
    "import numpy as np\n",
    "import matplotlib.pyplot as plt"
   ]
  },
  {
   "cell_type": "markdown",
   "metadata": {},
   "source": [
    "4.5 計算例"
   ]
  },
  {
   "cell_type": "markdown",
   "metadata": {},
   "source": [
    "4.5.1 衝撃波管問題"
   ]
  },
  {
   "cell_type": "code",
   "execution_count": null,
   "metadata": {},
   "outputs": [],
   "source": [
    "def get_U_parameters_1(rho, u, v, w, Bx, By, Bz, e, pT_1, S, SM):\n",
    "    u1 = SM\n",
    "    v1 = v - Bx * By * (SM - u) / (rho * (S - u) * (S - SM) - Bx**2)\n",
    "    w1 = w - Bz * By * (SM - u) / (rho * (S - u) * (S - SM) - Bx**2)\n",
    "    Bx1 = Bx #1次元だからこれでいいはず\n",
    "    By1 = By * (rho * (S - u)**2 - Bx**2) / (rho * (S - u) * (S - SM) - Bx**2)\n",
    "    Bz1 = Bz * (rho * (S - u)**2 - Bx**2) / (rho * (S - u) * (S - SM) - Bx**2)\n",
    "    e1 = ((S - u) * e - pT_1 * u + pT_1 * SM + Bx * ((u*Bx + v*By + w*Bz) - (u1*Bx1 + v1*By1 + w1*Bz1))) / (S - SM)\n",
    "    return u1, v1, w1, Bx1, By1, Bz1, e1\n",
    "\n",
    "\n",
    "def get_U_parameters_2(rho1_L, rho1_R, u1_L, u1_R, v1_L, v1_R, w1_L, w1_R, Bx1_L, Bx1_R, By1_L, By1_R, Bz1_L, Bz1_R, e1_L, e1_R, SM):\n",
    "    u2 = SM\n",
    "    Bx2 = Bx1_L #1次元だからこれでいいはず\n",
    "    v2 = (np.sqrt(rho1_L)*v1_L + np.sqrt(rho1_R)*v1_R + (By1_R - By1_L)*np.sign(Bx2)) / (np.sqrt(rho1_L) + np.sqrt(rho1_R))\n",
    "    w2 = (np.sqrt(rho1_L)*w1_L + np.sqrt(rho1_R)*w1_R + (Bz1_R - Bz1_L)*np.sign(Bx2)) / (np.sqrt(rho1_L) + np.sqrt(rho1_R))\n",
    "    By2 = (np.sqrt(rho1_L)*By1_R + np.sqrt(rho1_R)*By1_L + np.sqrt(rho1_L*rho1_R)*(v1_R - v1_L)*np.sign(Bx2)) / (np.sqrt(rho1_L) + np.sqrt(rho1_R))\n",
    "    Bz2 = (np.sqrt(rho1_L)*Bz1_R + np.sqrt(rho1_R)*Bz1_L + np.sqrt(rho1_L*rho1_R)*(w1_R - w1_L)*np.sign(Bx2)) / (np.sqrt(rho1_L) + np.sqrt(rho1_R))\n",
    "    e2_L = e1_L - np.sqrt(rho1_L) * ((u1_L*Bx1_L + v1_L*By1_L + w1_L*Bz1_L) - (u2*Bx2 + v2*By2 + w2*Bz2)) * np.sign(Bx2)\n",
    "    e2_R = e1_R - np.sqrt(rho1_R) * ((u1_R*Bx1_R + v1_R*By1_R + w1_R*Bz1_R) - (u2*Bx2 + v2*By2 + w2*Bz2)) * np.sign(Bx2)\n",
    "\n",
    "    return u2, v2, w2, Bx2, By2, Bz2, e2_L, e2_R"
   ]
  },
  {
   "cell_type": "code",
   "execution_count": 3,
   "metadata": {},
   "outputs": [],
   "source": [
    "dx = 0.001\n",
    "dt = 0.0005\n",
    "x = np.arange(0.0, 1.0, dx)\n",
    "nmax = len(x)\n",
    "\n",
    "gamma = 5.0/3.0\n",
    "\n",
    "U = np.zeros([x.shape[0], 8]) # rho, rho*u, rho*v, rho*w, Bx, By, Bz, e\n",
    "# ここでのLとRはメインループ内のL・Rの意味とは違う\n",
    "# ここのは左半分・右半分の意味\n",
    "rho_L_init = 1.0\n",
    "rho_R_init = 0.125\n",
    "velocity_L_init = np.array([0.0, 0.0, 0.0])\n",
    "velocity_R_init = np.array([0.0, 0.0, 0.0])\n",
    "B_L_init = np.array([0.75, 1.0, 0.0])\n",
    "B_R_init = np.array([0.75, -1.0, 0.0])\n",
    "p_L_init = 1.0\n",
    "p_R_init = 0.1\n",
    "U[x < 0.5, 0] = rho_L_init\n",
    "U[x >= 0.5, 0] = rho_R_init\n",
    "U[x < 0.5, 1:4] = rho_L_init * velocity_L_init\n",
    "U[x >= 0.5, 1:4] = rho_R_init * velocity_R_init\n",
    "U[x < 0.5, 4:7] = B_L_init\n",
    "U[x >= 0.5, 4:7] = B_R_init\n",
    "U[x < 0.5, 7] = p_L_init/(gamma-1) + rho_L_init * np.linalg.norm(velocity_L_init)**2/2 + np.linalg.norm(B_L_init)**2/2\n",
    "U[x >= 0.5, 7] = p_R_init/(gamma-1) + rho_R_init * np.linalg.norm(velocity_R_init)**2/2 + np.linalg.norm(B_R_init)**2/2\n",
    "\n",
    "F = np.zeros(U.shape)"
   ]
  },
  {
   "cell_type": "code",
   "execution_count": 7,
   "metadata": {},
   "outputs": [
    {
     "ename": "TypeError",
     "evalue": "minimum() takes from 2 to 3 positional arguments but 0 were given",
     "output_type": "error",
     "traceback": [
      "\u001b[1;31m---------------------------------------------------------------------------\u001b[0m",
      "\u001b[1;31mTypeError\u001b[0m                                 Traceback (most recent call last)",
      "Cell \u001b[1;32mIn[7], line 6\u001b[0m\n\u001b[0;32m      4\u001b[0m u_L \u001b[38;5;241m=\u001b[39m U[:, \u001b[38;5;241m1\u001b[39m] \u001b[38;5;241m/\u001b[39m rho_L\n\u001b[0;32m      5\u001b[0m u_L \u001b[38;5;241m=\u001b[39m U[:, \u001b[38;5;241m1\u001b[39m] \u001b[38;5;241m/\u001b[39m rho_L\n\u001b[1;32m----> 6\u001b[0m SL \u001b[38;5;241m=\u001b[39m np\u001b[38;5;241m.\u001b[39mminimum()\n",
      "\u001b[1;31mTypeError\u001b[0m: minimum() takes from 2 to 3 positional arguments but 0 were given"
     ]
    }
   ],
   "source": [
    "step = int(1.0/dt)\n",
    "for t in range(step+1):\n",
    "    rho_L = U[:, 0]\n",
    "    u_L = U[:, 1] / rho_L\n",
    "    v_L = U[:, 2] / rho_L\n",
    "    w_L = U[:, 3] / rho_L\n",
    "    Bx_L = U[:, 4]\n",
    "    By_L = U[:, 5]\n",
    "    Bz_L = U[:, 6]\n",
    "    e_L = U[:, 7]\n",
    "    rho_R = np.roll(rho_L, -1)\n",
    "    u_R = np.roll(u_L[:, 1], -1)\n",
    "    v_R = np.roll(v_L[:, 2], -1)\n",
    "    w_R = np.roll(w_L[:, 3], -1)\n",
    "    Bx_R = np.roll(Bx_L[:, 4], -1)\n",
    "    By_R = np.roll(By_L[:, 5], -1)\n",
    "    Bz_R = np.roll(Bz_L[:, 6], -1)\n",
    "    e_R = np.roll(e_L[:, 7], -1)\n",
    "    p_L = (gamma-1) * (e_L - rho_L*(u_L**2+v_L**2+w_L**2)/2 - (Bx_L**2+By_L**2+Bz_L**2)/2)\n",
    "    p_R = np.roll(p_L, -1)\n",
    "\n",
    "    cs_L = np.sqrt(gamma*p_L/rho_L)\n",
    "    cs_R = np.roll(cs_L, -1)\n",
    "    ca_L = np.sqrt(Bx_L**2+By_L**2+Bz_L**2) / np.sqrt(rho_L)\n",
    "    ca_R = np.roll(ca_L, -1)\n",
    "    fast_Alfven_L = 1/np.sqrt(2) * (cs_L**2 + ca_L**2 + np.sqrt((cs_L**2+ca_L**2)**2 - 4 * cs_L**2 * ca_L**2))\n",
    "    fast_Alfven_R = np.roll(fast_Alfven_L, -1)\n",
    "    S_L = np.minimum(u_L, u_R) - np.maximum(fast_Alfven_L, fast_Alfven_R)\n",
    "    S_R = np.minimum(u_L, u_R) + np.maximum(fast_Alfven_L, fast_Alfven_R)\n",
    "\n",
    "    pT_L = p_L + (Bx_L**2+By_L**2+Bz_L**2)/2\n",
    "    pT_R = np.roll(pT_L, -1)\n",
    "\n",
    "    SM = ((S_R - u_R)*rho_R*u_R - (S_L - u_L)*rho_L*u_L - pT_R + pT_L) / ((S_R - u_R)*rho_R - (S_L - u_L)*rho_L)\n",
    "    pT1 = ((S_R - u_R)*rho_R*pT_L - (S_L - u_L)*rho_L*pT_R + rho_L*rho_R*(S_R - u_R)*(S_L - u_L)*(u_R - u_L)) / ((S_R - u_R)*rho_R - (S_L - u_L)*rho_L)\n",
    "    rho1_L = rho_L * (S_L - u_L) / (S_L - SM)\n",
    "    rho1_R = rho_R * (S_R - u_R) / (S_R - SM)\n",
    "    u1_L, v1_L, w1_L, Bx1_L, By1_L, Bz1_L, e1_L = get_U_parameters_1(rho_L, u_L, v_L, w_L, Bx_L, By_L, Bz_L, e_L, pT1, S_L, SM)\n",
    "    u1_R, v1_R, w1_R, Bx1_R, By1_R, Bz1_R, e1_R = get_U_parameters_1(rho_R, u_R, v_R, w_R, Bx_R, By_R, Bz_R, e_R, pT1, S_R, SM)\n",
    "\n",
    "    S_L1 = SM - np.abs(Bx_L)/np.sqrt(rho1_L) #Bxの扱いはどうする？　1次元だからこれでいいはず…\n",
    "    S_R1 = SM + np.abs(Bx_L)/np.sqrt(rho1_R) #Bxの扱いはどうする？　1次元だからこれでいいはず…\n",
    "\n",
    "    u2, v2, w2, Bx2, By2, Bz2, e2_L, e2_R = get_U_parameters_2(rho1_L, rho1_R, u1_L, u1_R, v1_L, v1_R, w1_L, w1_R, Bx1_L, Bx1_R, By1_L, By1_R, Bz1_L, Bz1_R, e1_L, e1_R, SM)\n",
    "\n",
    "    # Fの選択\n",
    "\n",
    "    # 時間発展\n",
    "    "
   ]
  }
 ],
 "metadata": {
  "kernelspec": {
   "display_name": "base",
   "language": "python",
   "name": "python3"
  },
  "language_info": {
   "codemirror_mode": {
    "name": "ipython",
    "version": 3
   },
   "file_extension": ".py",
   "mimetype": "text/x-python",
   "name": "python",
   "nbconvert_exporter": "python",
   "pygments_lexer": "ipython3",
   "version": "3.11.5"
  }
 },
 "nbformat": 4,
 "nbformat_minor": 2
}
